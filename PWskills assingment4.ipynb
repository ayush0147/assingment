{
 "cells": [
  {
   "cell_type": "code",
   "execution_count": 3,
   "id": "93c235cc-66aa-4107-bfa8-a487d527f910",
   "metadata": {},
   "outputs": [],
   "source": [
    "\"\"\"\n",
    "    Q1. You are writing code for a company. The requirement of the company is \n",
    "    that you create a python\n",
    "    function that will check whether the password entered \n",
    "    by the user is correct or not. The function should\n",
    "    take the password as input and return the string \n",
    "    “Valid Password” if the entered password follows the\n",
    "    below-given password guidelines else it should return \n",
    "    “Invalid Password”.\n",
    "    \n",
    "    Note: 1. The Password should contain at least two uppercase \n",
    "    letters and at least two lowercase letters.\n",
    "    \n",
    "    2. The Password should contain at least a number and three\n",
    "    special characters.\n",
    "    \n",
    "    3. The length of the password should be 10 characters long.\n",
    "\"\"\"\n",
    "\n",
    "def validate_password(password):\n",
    "    upper_count, lower_count, number_count, special_count = 0, 0, 0, 0\n",
    "    special_chars = ['!', '@', '#', '$', '%', '^', '&', '*', '(', ')', '-', '+', '=', '_', '{', '}', '[', ']', '|', ';', ':', \n",
    "                     '<', '>', ',', '.', '/', '?']\n",
    "    if len(password) < 10:\n",
    "        return \"Invalid Password\"\n",
    "    else:\n",
    "        for char in password:\n",
    "            if char.isupper():\n",
    "                upper_count += 1\n",
    "            elif char.islower():\n",
    "                lower_count += 1\n",
    "            elif char.isdigit():\n",
    "                number_count += 1\n",
    "            elif char in special_chars:\n",
    "                special_count += 1\n",
    "        if upper_count < 2 or lower_count < 2 or number_count < 1 or special_count < 3:\n",
    "            return \"Invalid Password\"\n",
    "    \n",
    "    return \"Valid Password\"\n"
   ]
  },
  {
   "cell_type": "code",
   "execution_count": 5,
   "id": "5e4af48a-529b-456f-a940-ab9ee5165523",
   "metadata": {},
   "outputs": [
    {
     "name": "stdout",
     "output_type": "stream",
     "text": [
      "Valid Password\n"
     ]
    }
   ],
   "source": [
    "password = \"AYUsh@@@123\"\n",
    "print(validate_password(password))"
   ]
  },
  {
   "cell_type": "code",
   "execution_count": null,
   "id": "4f558293-993d-4809-bfab-ffb844b0fc77",
   "metadata": {},
   "outputs": [],
   "source": [
    "\"\"\"\n",
    "    Q2. Solve the below-given questions using at least one of the following:\n",
    "    1. Lambda function\n",
    "    2. Filter function\n",
    "    3. Map function\n",
    "    4. List Comprehension\n",
    "\"\"\"\n"
   ]
  },
  {
   "cell_type": "code",
   "execution_count": null,
   "id": "083ff8c0-c84a-44a9-8917-59e1323c36c5",
   "metadata": {},
   "outputs": [],
   "source": [
    "'\\n    Q2. Solve the below-given questions using at least one of the following:\\n   \n",
    "1. Lambda function\\n    2. Filter function\\n    3. Map function\\n    \n",
    "4. List Comprehension\\n'"
   ]
  },
  {
   "cell_type": "code",
   "execution_count": 6,
   "id": "a471ee64-1d86-4b9d-85cd-a767192e86bd",
   "metadata": {},
   "outputs": [
    {
     "name": "stdout",
     "output_type": "stream",
     "text": [
      "['123', '78', '90']\n"
     ]
    }
   ],
   "source": [
    "# i. Check if the string starts with a particular letter\n",
    "\n",
    "strings = [\"123\", \"45.6\", \"78\", \"0.5\", \"90\"]\n",
    "result = list(filter(lambda s: s.isdigit(), strings))\n",
    "print(result)\n"
   ]
  },
  {
   "cell_type": "code",
   "execution_count": 7,
   "id": "8ab4c011-dca9-400b-a016-e834c50a5a46",
   "metadata": {},
   "outputs": [
    {
     "name": "stdout",
     "output_type": "stream",
     "text": [
      "True\n",
      "False\n",
      "False\n"
     ]
    }
   ],
   "source": [
    "# ii. Check if the string is numeric\n",
    "\n",
    "string1 = \"123\"\n",
    "string2 = \"45.6\"\n",
    "string3 = \"abc123\"\n",
    "\n",
    "print(string1.isdigit())\n",
    "print(string2.isdigit())\n",
    "print(string3.isdigit())\n"
   ]
  },
  {
   "cell_type": "code",
   "execution_count": 9,
   "id": "a7ac1653-777a-45f0-a6f8-f91fe307079b",
   "metadata": {},
   "outputs": [
    {
     "name": "stdout",
     "output_type": "stream",
     "text": [
      "[('orange', 80), ('mango', 99), ('grapes', 1000)]\n"
     ]
    }
   ],
   "source": [
    "# iii. Sort a list of tuples having fruit names and their quantity. [(\"mango\",99),(\"orange\",80), (\"grapes\", 1000)\n",
    "\n",
    "fruits = [(\"mango\", 99), (\"orange\", 80), (\"grapes\", 1000)]\n",
    "sorted_fruits = sorted(fruits, key=lambda f: f[1], reverse=False)\n",
    "print(sorted_fruits)\n"
   ]
  },
  {
   "cell_type": "code",
   "execution_count": 10,
   "id": "d556dee9-609a-47e1-b9fb-b8273cfea8be",
   "metadata": {},
   "outputs": [
    {
     "name": "stdout",
     "output_type": "stream",
     "text": [
      "[1, 4, 9, 16, 25, 36, 49, 64, 81, 100]\n"
     ]
    }
   ],
   "source": [
    "# iv. Find the squares of numbers from 1 to 10\n",
    "\n",
    "squares = [i ** 2 for i in range(1, 11)]\n",
    "print(squares)\n"
   ]
  },
  {
   "cell_type": "code",
   "execution_count": 11,
   "id": "397264bc-5c9e-4292-aecd-10518ebfca45",
   "metadata": {},
   "outputs": [
    {
     "name": "stdout",
     "output_type": "stream",
     "text": [
      "Cube roots: [1.0, 1.2599210498948732, 1.4422495703074083, 1.5874010519681994, 1.7099759466766968, 1.8171205928321397, 1.912931182772389, 2.0, 2.080083823051904, 2.154434690031884]\n"
     ]
    }
   ],
   "source": [
    "# v. Find the cube root of numbers from 1 to 10\n",
    "\n",
    "cube_roots = [x**(1/3) for x in range(1, 11)]\n",
    "print(\"Cube roots:\", cube_roots)"
   ]
  },
  {
   "cell_type": "code",
   "execution_count": null,
   "id": "24cbd177-cc07-4e8d-b091-2a4380d9c909",
   "metadata": {},
   "outputs": [],
   "source": []
  }
 ],
 "metadata": {
  "kernelspec": {
   "display_name": "Python 3 (ipykernel)",
   "language": "python",
   "name": "python3"
  },
  "language_info": {
   "codemirror_mode": {
    "name": "ipython",
    "version": 3
   },
   "file_extension": ".py",
   "mimetype": "text/x-python",
   "name": "python",
   "nbconvert_exporter": "python",
   "pygments_lexer": "ipython3",
   "version": "3.10.8"
  }
 },
 "nbformat": 4,
 "nbformat_minor": 5
}
