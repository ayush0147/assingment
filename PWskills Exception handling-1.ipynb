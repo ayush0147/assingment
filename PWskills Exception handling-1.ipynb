{
 "cells": [
  {
   "cell_type": "code",
   "execution_count": null,
   "id": "0e0d1a4f-148c-455b-96a9-baf5e45292e9",
   "metadata": {},
   "outputs": [],
   "source": [
    "'''\n",
    "    Q1. What is Exception in python? Write the difference between exception and syntax error?\n",
    "'''\n"
   ]
  },
  {
   "cell_type": "code",
   "execution_count": null,
   "id": "d0d96d6f-3414-435f-ad80-72dfeb40072d",
   "metadata": {},
   "outputs": [],
   "source": [
    "An exception in Python is an error that occurs during program execution and interrupts \n",
    "the normal flow of instructions. \n",
    "It creates an exception containing information about the error type.\n",
    "\n",
    "A syntax error, on the other hand, is an error that occurs during the parsing stage of \n",
    "program execution, \n",
    "when the Python interpreter cannot understand the code due to incorrect syntax.\n"
   ]
  },
  {
   "cell_type": "code",
   "execution_count": null,
   "id": "7d25b7e6-2dc1-4969-b043-3e69665ddb0c",
   "metadata": {},
   "outputs": [],
   "source": [
    "''' \n",
    "    Q2. What happens when an exception is not handled? Explain with an example.\n",
    "'''    \n"
   ]
  },
  {
   "cell_type": "code",
   "execution_count": null,
   "id": "d88b39c5-25a1-40e0-be3c-efb032188753",
   "metadata": {},
   "outputs": [],
   "source": [
    "When an exception is not handled in a Python program, the program will terminate abruptly and an error message \n",
    "will be displayed, indicating the type of the exception and the location where it occurred. \n"
   ]
  },
  {
   "cell_type": "code",
   "execution_count": 8,
   "id": "44fc3afd-8083-48ad-8f1d-59c9519ba3dd",
   "metadata": {},
   "outputs": [
    {
     "ename": "FileNotFoundError",
     "evalue": "[Errno 2] No such file or directory: 'no_file.txt'",
     "output_type": "error",
     "traceback": [
      "\u001b[0;31m---------------------------------------------------------------------------\u001b[0m",
      "\u001b[0;31mFileNotFoundError\u001b[0m                         Traceback (most recent call last)",
      "Cell \u001b[0;32mIn[8], line 3\u001b[0m\n\u001b[1;32m      1\u001b[0m \u001b[38;5;66;03m# If the file does not exist, a FileNotFoundError exception will be raised. If we don't handle this exception, \u001b[39;00m\n\u001b[1;32m      2\u001b[0m \u001b[38;5;66;03m# the program will terminate abruptly, without reading the file, and display an error message\u001b[39;00m\n\u001b[0;32m----> 3\u001b[0m \u001b[38;5;28;01mwith\u001b[39;00m \u001b[38;5;28;43mopen\u001b[39;49m\u001b[43m(\u001b[49m\u001b[38;5;124;43m\"\u001b[39;49m\u001b[38;5;124;43mno_file.txt\u001b[39;49m\u001b[38;5;124;43m\"\u001b[39;49m\u001b[43m,\u001b[49m\u001b[38;5;124;43m\"\u001b[39;49m\u001b[38;5;124;43mr\u001b[39;49m\u001b[38;5;124;43m\"\u001b[39;49m\u001b[43m)\u001b[49m \u001b[38;5;28;01mas\u001b[39;00m file:\n\u001b[1;32m      4\u001b[0m     file\u001b[38;5;241m.\u001b[39mread()\n",
      "File \u001b[0;32m/opt/conda/lib/python3.10/site-packages/IPython/core/interactiveshell.py:282\u001b[0m, in \u001b[0;36m_modified_open\u001b[0;34m(file, *args, **kwargs)\u001b[0m\n\u001b[1;32m    275\u001b[0m \u001b[38;5;28;01mif\u001b[39;00m file \u001b[38;5;129;01min\u001b[39;00m {\u001b[38;5;241m0\u001b[39m, \u001b[38;5;241m1\u001b[39m, \u001b[38;5;241m2\u001b[39m}:\n\u001b[1;32m    276\u001b[0m     \u001b[38;5;28;01mraise\u001b[39;00m \u001b[38;5;167;01mValueError\u001b[39;00m(\n\u001b[1;32m    277\u001b[0m         \u001b[38;5;124mf\u001b[39m\u001b[38;5;124m\"\u001b[39m\u001b[38;5;124mIPython won\u001b[39m\u001b[38;5;124m'\u001b[39m\u001b[38;5;124mt let you open fd=\u001b[39m\u001b[38;5;132;01m{\u001b[39;00mfile\u001b[38;5;132;01m}\u001b[39;00m\u001b[38;5;124m by default \u001b[39m\u001b[38;5;124m\"\u001b[39m\n\u001b[1;32m    278\u001b[0m         \u001b[38;5;124m\"\u001b[39m\u001b[38;5;124mas it is likely to crash IPython. If you know what you are doing, \u001b[39m\u001b[38;5;124m\"\u001b[39m\n\u001b[1;32m    279\u001b[0m         \u001b[38;5;124m\"\u001b[39m\u001b[38;5;124myou can use builtins\u001b[39m\u001b[38;5;124m'\u001b[39m\u001b[38;5;124m open.\u001b[39m\u001b[38;5;124m\"\u001b[39m\n\u001b[1;32m    280\u001b[0m     )\n\u001b[0;32m--> 282\u001b[0m \u001b[38;5;28;01mreturn\u001b[39;00m \u001b[43mio_open\u001b[49m\u001b[43m(\u001b[49m\u001b[43mfile\u001b[49m\u001b[43m,\u001b[49m\u001b[43m \u001b[49m\u001b[38;5;241;43m*\u001b[39;49m\u001b[43margs\u001b[49m\u001b[43m,\u001b[49m\u001b[43m \u001b[49m\u001b[38;5;241;43m*\u001b[39;49m\u001b[38;5;241;43m*\u001b[39;49m\u001b[43mkwargs\u001b[49m\u001b[43m)\u001b[49m\n",
      "\u001b[0;31mFileNotFoundError\u001b[0m: [Errno 2] No such file or directory: 'no_file.txt'"
     ]
    }
   ],
   "source": [
    "# If the file does not exist, a FileNotFoundError exception will be raised. If we don't handle this exception, \n",
    "# the program will terminate abruptly, without reading the file, and display an error message\n",
    "with open(\"no_file.txt\",\"r\") as file:\n",
    "    file.read()\n"
   ]
  },
  {
   "cell_type": "code",
   "execution_count": 2,
   "id": "0a72ca29-b4c0-4118-8c0d-eb8abaf41367",
   "metadata": {},
   "outputs": [
    {
     "name": "stdout",
     "output_type": "stream",
     "text": [
      "Error: File not found\n"
     ]
    }
   ],
   "source": [
    "# To avoid unhandled exceptions, it's important to include exception handling code in the program that catches \n",
    "# and handles the exceptions appropriately\n",
    "try:\n",
    "    with open(\"no_file.txt\",\"r\") as file:\n",
    "        print(file.read)\n",
    "except FileNotFoundError:\n",
    "    print(\"Error: File not found\")"
   ]
  },
  {
   "cell_type": "code",
   "execution_count": null,
   "id": "27da56e2-3525-4f45-a674-ad8fc28d4b19",
   "metadata": {},
   "outputs": [],
   "source": [
    "'''\n",
    "    Q3. Which python statements is used to catch and handle exceptions ? explain with an example.\n",
    "'''\n"
   ]
  },
  {
   "cell_type": "code",
   "execution_count": null,
   "id": "2e0f060f-6f50-44c6-b170-80134b186ed1",
   "metadata": {},
   "outputs": [],
   "source": [
    "The try-except statement is used to catch and handle exceptions. The try block contains the \n",
    "code that may raise an exception, \n",
    "and the except block contains the code that handles the exception if it occurs."
   ]
  },
  {
   "cell_type": "code",
   "execution_count": 3,
   "id": "3cd61601-2d1f-4263-90f2-5971ed41cbc7",
   "metadata": {},
   "outputs": [
    {
     "name": "stdout",
     "output_type": "stream",
     "text": [
      "Error: division by zero\n"
     ]
    }
   ],
   "source": [
    "try:\n",
    "    a=10\n",
    "    b=0\n",
    "    result = a/b\n",
    "except ZeroDivisionError:\n",
    "    print(\"Error: division by zero\")"
   ]
  },
  {
   "cell_type": "code",
   "execution_count": null,
   "id": "ce931578-4902-432a-bd65-aed2a65ec324",
   "metadata": {},
   "outputs": [],
   "source": [
    "'''\n",
    "    Q5. Explain with an example: \n",
    "    (a) try and else \n",
    "    (b) finally \n",
    "    (c) raise\n",
    "'''\n"
   ]
  },
  {
   "cell_type": "code",
   "execution_count": null,
   "id": "50aa79d8-f6fa-4e8b-8f36-b74c6666d51f",
   "metadata": {},
   "outputs": [],
   "source": [
    "(a) try and else:---\n",
    "    The else block is used in conjunction with try-except statement to execute code that should \n",
    "    run only if no exceptions were raised\n",
    "    in the try block.\n",
    "\n",
    "(b) finally:---\n",
    "    The finally block is used to execute code that must run whether an exception occurred or not. \n",
    "    This is useful for closing files, \n",
    "    or doing any necessary work.\n",
    "    \n",
    "(c) raise:\n",
    "    The raise keyword is used to explicitly raise an exception. This can be useful in situations \n",
    "    where you want to raise a specific \n",
    "    exception based on certain conditions. \n"
   ]
  },
  {
   "cell_type": "code",
   "execution_count": 9,
   "id": "bdf91c5b-dd5a-4ddc-b593-e626f852092e",
   "metadata": {},
   "outputs": [
    {
     "name": "stdout",
     "output_type": "stream",
     "text": [
      "file is not readable due to  [Errno 2] No such file or directory: 'example1.txt'\n"
     ]
    }
   ],
   "source": [
    "# try and else\n",
    "import logging\n",
    "logging.basicConfig(filename = \"log1.txt\", level = logging.INFO, format= \"%(asctime)s %(name)s  %(levelname)s %(message)s\")\n",
    "\n",
    "try:\n",
    "    logging.info(\"Inside the try block\")\n",
    "    f=open(\"example1.txt\",\"r\")\n",
    "    print(f.read())\n",
    "except Exception as e:\n",
    "    logging.info(\"Inside the except block\")\n",
    "    print(\"file is not readable due to \",e)\n",
    "else:\n",
    "    logging.info(\"Inside the else block\")\n",
    "    f.close()\n",
    "    print(\"File is closed succesfully\")\n",
    "    \n",
    "logging.shutdown()\n"
   ]
  },
  {
   "cell_type": "code",
   "execution_count": 10,
   "id": "8e9210fe-3c70-4fae-a392-d7716772fc01",
   "metadata": {},
   "outputs": [
    {
     "name": "stdout",
     "output_type": "stream",
     "text": [
      "Finally is excuted succesfully eithier try block runs successfully or not\n"
     ]
    },
    {
     "ename": "FileNotFoundError",
     "evalue": "[Errno 2] No such file or directory: 'no_file.txt'",
     "output_type": "error",
     "traceback": [
      "\u001b[0;31m---------------------------------------------------------------------------\u001b[0m",
      "\u001b[0;31mFileNotFoundError\u001b[0m                         Traceback (most recent call last)",
      "Cell \u001b[0;32mIn[10], line 7\u001b[0m\n\u001b[1;32m      5\u001b[0m \u001b[38;5;28;01mtry\u001b[39;00m:\n\u001b[1;32m      6\u001b[0m     logging\u001b[38;5;241m.\u001b[39minfo(\u001b[38;5;124m\"\u001b[39m\u001b[38;5;124mInside the try block\u001b[39m\u001b[38;5;124m\"\u001b[39m)\n\u001b[0;32m----> 7\u001b[0m     f\u001b[38;5;241m=\u001b[39m\u001b[38;5;28;43mopen\u001b[39;49m\u001b[43m(\u001b[49m\u001b[38;5;124;43m\"\u001b[39;49m\u001b[38;5;124;43mno_file.txt\u001b[39;49m\u001b[38;5;124;43m\"\u001b[39;49m\u001b[43m,\u001b[49m\u001b[38;5;124;43m\"\u001b[39;49m\u001b[38;5;124;43mr\u001b[39;49m\u001b[38;5;124;43m\"\u001b[39;49m\u001b[43m)\u001b[49m\n\u001b[1;32m      8\u001b[0m     \u001b[38;5;28mprint\u001b[39m(f\u001b[38;5;241m.\u001b[39mread())\n\u001b[1;32m      9\u001b[0m     f\u001b[38;5;241m.\u001b[39mclose()\n",
      "File \u001b[0;32m/opt/conda/lib/python3.10/site-packages/IPython/core/interactiveshell.py:282\u001b[0m, in \u001b[0;36m_modified_open\u001b[0;34m(file, *args, **kwargs)\u001b[0m\n\u001b[1;32m    275\u001b[0m \u001b[38;5;28;01mif\u001b[39;00m file \u001b[38;5;129;01min\u001b[39;00m {\u001b[38;5;241m0\u001b[39m, \u001b[38;5;241m1\u001b[39m, \u001b[38;5;241m2\u001b[39m}:\n\u001b[1;32m    276\u001b[0m     \u001b[38;5;28;01mraise\u001b[39;00m \u001b[38;5;167;01mValueError\u001b[39;00m(\n\u001b[1;32m    277\u001b[0m         \u001b[38;5;124mf\u001b[39m\u001b[38;5;124m\"\u001b[39m\u001b[38;5;124mIPython won\u001b[39m\u001b[38;5;124m'\u001b[39m\u001b[38;5;124mt let you open fd=\u001b[39m\u001b[38;5;132;01m{\u001b[39;00mfile\u001b[38;5;132;01m}\u001b[39;00m\u001b[38;5;124m by default \u001b[39m\u001b[38;5;124m\"\u001b[39m\n\u001b[1;32m    278\u001b[0m         \u001b[38;5;124m\"\u001b[39m\u001b[38;5;124mas it is likely to crash IPython. If you know what you are doing, \u001b[39m\u001b[38;5;124m\"\u001b[39m\n\u001b[1;32m    279\u001b[0m         \u001b[38;5;124m\"\u001b[39m\u001b[38;5;124myou can use builtins\u001b[39m\u001b[38;5;124m'\u001b[39m\u001b[38;5;124m open.\u001b[39m\u001b[38;5;124m\"\u001b[39m\n\u001b[1;32m    280\u001b[0m     )\n\u001b[0;32m--> 282\u001b[0m \u001b[38;5;28;01mreturn\u001b[39;00m \u001b[43mio_open\u001b[49m\u001b[43m(\u001b[49m\u001b[43mfile\u001b[49m\u001b[43m,\u001b[49m\u001b[43m \u001b[49m\u001b[38;5;241;43m*\u001b[39;49m\u001b[43margs\u001b[49m\u001b[43m,\u001b[49m\u001b[43m \u001b[49m\u001b[38;5;241;43m*\u001b[39;49m\u001b[38;5;241;43m*\u001b[39;49m\u001b[43mkwargs\u001b[49m\u001b[43m)\u001b[49m\n",
      "\u001b[0;31mFileNotFoundError\u001b[0m: [Errno 2] No such file or directory: 'no_file.txt'"
     ]
    }
   ],
   "source": [
    "# finally\n",
    "import logging\n",
    "logging.basicConfig(filename = \"log2.txt\", level = logging.INFO, format= \"%(asctime)s %(name)s  %(levelname)s %(message)s\")\n",
    "\n",
    "try:\n",
    "    logging.info(\"Inside the try block\")\n",
    "    f=open(\"no_file.txt\",\"r\")\n",
    "    print(f.read())\n",
    "    f.close()\n",
    "finally:\n",
    "    logging.info(\"Inside the finally block\")\n",
    "    print(\"Finally is excuted succesfully eithier try block runs successfully or not\")\n",
    "    logging.shutdown()\n"
   ]
  },
  {
   "cell_type": "code",
   "execution_count": 11,
   "id": "027e603b-e283-4efc-9cef-53855fd228ce",
   "metadata": {},
   "outputs": [
    {
     "name": "stdout",
     "output_type": "stream",
     "text": [
      "Error: Cannot divide by zero\n"
     ]
    }
   ],
   "source": [
    "# raise\n",
    "import logging\n",
    "logging.basicConfig(filename = \"log3.txt\", level = logging.INFO, format= \"%(asctime)s %(name)s  %(levelname)s %(message)s\")\n",
    "\n",
    "def divide(num1, num2):\n",
    "    logging.info(\"Inside the divide function\")\n",
    "    if num2 == 0:\n",
    "        logging.error(\"raise error\")\n",
    "        raise ZeroDivisionError(\"Cannot divide by zero\")\n",
    "    else:\n",
    "        logging.info(\"Inside the else block which excute the whole code\")\n",
    "        return num1 / num2\n",
    "\n",
    "try:\n",
    "    logging.info(\"Inside the try block\")\n",
    "    result = divide(10, 0)\n",
    "    print(result)\n",
    "    logging.info(\"result generated is {}\").format(result)\n",
    "except ZeroDivisionError as e:\n",
    "    logging.info(\"Inside the except block\")\n",
    "    print(\"Error:\", e)\n",
    "\n",
    "logging.shutdown()\n"
   ]
  },
  {
   "cell_type": "code",
   "execution_count": null,
   "id": "a467bdf3-45b2-4253-966e-e35bc4166a7a",
   "metadata": {},
   "outputs": [],
   "source": []
  }
 ],
 "metadata": {
  "kernelspec": {
   "display_name": "Python 3 (ipykernel)",
   "language": "python",
   "name": "python3"
  },
  "language_info": {
   "codemirror_mode": {
    "name": "ipython",
    "version": 3
   },
   "file_extension": ".py",
   "mimetype": "text/x-python",
   "name": "python",
   "nbconvert_exporter": "python",
   "pygments_lexer": "ipython3",
   "version": "3.10.8"
  }
 },
 "nbformat": 4,
 "nbformat_minor": 5
}
