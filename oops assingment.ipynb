{
 "cells": [
  {
   "cell_type": "code",
   "execution_count": null,
   "id": "0d6695cc-31b3-474a-9058-8138b4e63cb9",
   "metadata": {},
   "outputs": [],
   "source": [
    "##Q1. Explain Class and Object with respect to Object-Oriented Programming. Give a suitable example.\n",
    "A class is considered as a blueprint of objects. We can think of the class as a sketch (prototype) of a house.\n",
    "It contains all the details about the floors, doors, windows, etc.\n",
    "class ClassName:\n",
    "    # class definition \n",
    "    \n",
    "Based on these descriptions we build the house. House is the object.\n",
    "An object is called an instance of a class. \n",
    "For example, suppose Bike is a class then we can create objects like bike1, bike2, etc from the class.\n",
    "# create class\n",
    "class Bike:\n",
    "    name = \"\"\n",
    "    gear = 0\n",
    "\n",
    "# create objects of class\n",
    "bike1 = Bike()"
   ]
  },
  {
   "cell_type": "code",
   "execution_count": null,
   "id": "a20157bb-9b59-4cb4-96df-2a0a74b2d93f",
   "metadata": {},
   "outputs": [],
   "source": [
    "#Q2. Name the four pillars of OOPs.\n",
    "\n",
    "The name of Four pillars of OOPs are\n",
    "    abstraction, \n",
    "    encapsulation, \n",
    "    inheritance, and \n",
    "    polymorphism."
   ]
  },
  {
   "cell_type": "code",
   "execution_count": null,
   "id": "5e3fa4a5-da06-4a1c-9745-fb67453c48e5",
   "metadata": {},
   "outputs": [],
   "source": [
    "#Q3. Explain why the __init__() function is used. Give a suitable example.\n",
    "The __init__ function is called every time an object is created from a class. \n",
    "The __init__ method lets the class initialize the object's attributes and serves no other purpose. \n",
    "It is only used within classes.\n"
   ]
  },
  {
   "cell_type": "code",
   "execution_count": 1,
   "id": "2da26079-2cd9-4f36-9549-f65521102686",
   "metadata": {},
   "outputs": [
    {
     "name": "stdout",
     "output_type": "stream",
     "text": [
      "Hello, my name is Nikhil\n"
     ]
    }
   ],
   "source": [
    "# A Sample class with init method\n",
    "class Person:\n",
    " \n",
    "    # init method or constructor\n",
    "    def __init__(self, name):\n",
    "        self.name = name\n",
    " \n",
    "    # Sample Method\n",
    "    def say_hi(self):\n",
    "        print('Hello, my name is', self.name)\n",
    " \n",
    " \n",
    "p = Person('Nikhil')\n",
    "p.say_hi()"
   ]
  },
  {
   "cell_type": "code",
   "execution_count": null,
   "id": "99488855-9d1f-474b-982d-881572a8076b",
   "metadata": {},
   "outputs": [],
   "source": [
    "#Q4. Why self is used in OOPs?\n",
    "Self represents the instance of the class.\n",
    "By using the “self” we can access the attributes and methods of the class in Python.\n",
    "It binds the attributes with the given arguments.\n",
    "The reason you need to use self. \n",
    "is because Python does not use the @ syntax to refer to instance attributes.\n"
   ]
  },
  {
   "cell_type": "code",
   "execution_count": null,
   "id": "bd555920-5576-411c-95b7-202655340439",
   "metadata": {},
   "outputs": [],
   "source": [
    "#Q5. What is inheritance? Give an example for each type of inheritance.\n",
    "Inheritance can be defined as the process of how a child receives genetic \n",
    "information from the parent.\n",
    "Types of Inheritance depend upon the number of child and parent classes involved. \n",
    "There are four types of inheritance in Python:\n",
    "Single Inheritance: \n",
    "Single inheritance enables a derived class to inherit properties from a single parent class,\n",
    "thus enabling code reusability and the addition of new features to existing code.\n",
    " "
   ]
  },
  {
   "cell_type": "code",
   "execution_count": 2,
   "id": "1f42e4d3-be06-4207-b46e-9ed8508a5938",
   "metadata": {},
   "outputs": [
    {
     "name": "stdout",
     "output_type": "stream",
     "text": [
      "This function is in parent class.\n",
      "This function is in child class.\n"
     ]
    }
   ],
   "source": [
    "# Python program to demonstrate\n",
    "# single inheritance\n",
    " \n",
    "# Base class\n",
    "class Parent:\n",
    "    def func1(self):\n",
    "        print(\"This function is in parent class.\")\n",
    " \n",
    "# Derived class\n",
    " \n",
    " \n",
    "class Child(Parent):\n",
    "    def func2(self):\n",
    "        print(\"This function is in child class.\")\n",
    " \n",
    " \n",
    "# Driver's code\n",
    "object = Child()\n",
    "object.func1()\n",
    "object.func2()"
   ]
  },
  {
   "cell_type": "code",
   "execution_count": null,
   "id": "7ff4ec0b-2f63-420b-a05d-551428a14702",
   "metadata": {},
   "outputs": [],
   "source": [
    "Multiple Inheritance: \n",
    "\n",
    "When a class can be derived from more than one base class this type of inheritance \n",
    "is called multiple inheritances. \n",
    "In multiple inheritances, all the features of the base classes are inherited into\n",
    "the derived class. \n"
   ]
  },
  {
   "cell_type": "code",
   "execution_count": 4,
   "id": "9d301ba7-a75c-4908-b37c-78d5a1b15a15",
   "metadata": {},
   "outputs": [
    {
     "name": "stdout",
     "output_type": "stream",
     "text": [
      "Father : RAM\n",
      "Mother : SITA\n"
     ]
    }
   ],
   "source": [
    " \n",
    "# multiple inheritance\n",
    " \n",
    "# Base class1\n",
    "class Mother:\n",
    "    mothername = \"\"\n",
    " \n",
    "    def mother(self):\n",
    "        print(self.mothername)\n",
    " \n",
    "# Base class2\n",
    " \n",
    " \n",
    "class Father:\n",
    "    fathername = \"\"\n",
    " \n",
    "    def father(self):\n",
    "        print(self.fathername)\n",
    " \n",
    "# Derived class\n",
    " \n",
    " \n",
    "class Son(Mother, Father):\n",
    "    def parents(self):\n",
    "        print(\"Father :\", self.fathername)\n",
    "        print(\"Mother :\", self.mothername)\n",
    " \n",
    " \n",
    "# Driver's code\n",
    "s1 = Son()\n",
    "s1.fathername = \"RAM\"\n",
    "s1.mothername = \"SITA\"\n",
    "s1.parents()"
   ]
  },
  {
   "cell_type": "code",
   "execution_count": null,
   "id": "06fd6cbf-11e6-4500-a4ce-e7227659cb9d",
   "metadata": {},
   "outputs": [],
   "source": [
    "Multilevel Inheritance :\n",
    "\n",
    "In multilevel inheritance, features of the base class and the derived class are \n",
    "further inherited into the new derived class.\n",
    "This is similar to a relationship representing a child and a grandfather.  \n"
   ]
  },
  {
   "cell_type": "code",
   "execution_count": 6,
   "id": "7a668fd0-c009-44e7-bc19-c2c43228d852",
   "metadata": {},
   "outputs": [
    {
     "name": "stdout",
     "output_type": "stream",
     "text": [
      "Lal mani\n",
      "Grandfather name : Lal mani\n",
      "Father name : Rampal\n",
      "Son name : Prince\n"
     ]
    }
   ],
   "source": [
    " #Python program to demonstrate\n",
    "# multilevel inheritance\n",
    " \n",
    "# Base class\n",
    " \n",
    " \n",
    "class Grandfather:\n",
    " \n",
    "    def __init__(self, grandfathername):\n",
    "        self.grandfathername = grandfathername\n",
    " \n",
    "# Intermediate class\n",
    " \n",
    " \n",
    "class Father(Grandfather):\n",
    "    def __init__(self, fathername, grandfathername):\n",
    "        self.fathername = fathername\n",
    " \n",
    "        # invoking constructor of Grandfather class\n",
    "        Grandfather.__init__(self, grandfathername)\n",
    " \n",
    "# Derived class\n",
    " \n",
    " \n",
    "class Son(Father):\n",
    "    def __init__(self, sonname, fathername, grandfathername):\n",
    "        self.sonname = sonname\n",
    " \n",
    "        # invoking constructor of Father class\n",
    "        Father.__init__(self, fathername, grandfathername)\n",
    " \n",
    "    def print_name(self):\n",
    "        print('Grandfather name :', self.grandfathername)\n",
    "        print(\"Father name :\", self.fathername)\n",
    "        print(\"Son name :\", self.sonname)\n",
    " \n",
    " \n",
    "#  Driver code\n",
    "s1 = Son('Prince', 'Rampal', 'Lal mani')\n",
    "print(s1.grandfathername)\n",
    "s1.print_name()"
   ]
  },
  {
   "cell_type": "code",
   "execution_count": null,
   "id": "6e34f0ca-c650-47e0-8a5e-75b244f02a6f",
   "metadata": {},
   "outputs": [],
   "source": [
    "Hierarchical Inheritance: \n",
    "\n",
    "When more than one derived class are created from a single base this type \n",
    "of inheritance is called hierarchical inheritance. \n",
    "In this program, we have a parent (base) class and two child (derived) classes. \n"
   ]
  },
  {
   "cell_type": "code",
   "execution_count": 7,
   "id": "4fda8c87-2e2e-4ea8-bede-f46060516187",
   "metadata": {},
   "outputs": [
    {
     "name": "stdout",
     "output_type": "stream",
     "text": [
      "This function is in parent class.\n",
      "This function is in child 1.\n",
      "This function is in parent class.\n",
      "This function is in child 2.\n"
     ]
    }
   ],
   "source": [
    "class Parent:\n",
    "    def func1(self):\n",
    "        print(\"This function is in parent class.\")\n",
    " \n",
    "# Derived class1\n",
    " \n",
    " \n",
    "class Child1(Parent):\n",
    "    def func2(self):\n",
    "        print(\"This function is in child 1.\")\n",
    " \n",
    "# Derivied class2\n",
    " \n",
    " \n",
    "class Child2(Parent):\n",
    "    def func3(self):\n",
    "        print(\"This function is in child 2.\")\n",
    " \n",
    " \n",
    "# Driver's code\n",
    "object1 = Child1()\n",
    "object2 = Child2()\n",
    "object1.func1()\n",
    "object1.func2()\n",
    "object2.func1()\n",
    "object2.func3()"
   ]
  },
  {
   "cell_type": "code",
   "execution_count": null,
   "id": "1d14a43c-0700-4c77-9bc2-af94355182ea",
   "metadata": {},
   "outputs": [],
   "source": []
  }
 ],
 "metadata": {
  "kernelspec": {
   "display_name": "Python 3 (ipykernel)",
   "language": "python",
   "name": "python3"
  },
  "language_info": {
   "codemirror_mode": {
    "name": "ipython",
    "version": 3
   },
   "file_extension": ".py",
   "mimetype": "text/x-python",
   "name": "python",
   "nbconvert_exporter": "python",
   "pygments_lexer": "ipython3",
   "version": "3.10.8"
  }
 },
 "nbformat": 4,
 "nbformat_minor": 5
}
