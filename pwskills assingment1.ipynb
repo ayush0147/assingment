{
 "cells": [
  {
   "cell_type": "code",
   "execution_count": 1,
   "id": "effced43-6ccf-4523-89bb-54264d545b3e",
   "metadata": {},
   "outputs": [],
   "source": [
    "#1. Which keyword is used to create a function? Create a function to return a list of odd numbers in the range of 1 to 25.\n",
    "\n",
    "#def keyword is used to create a function\n",
    "def odd():\n",
    "    for i in range(1,26):\n",
    "        if i%2!=0:\n",
    "            print(i)\n",
    "\n"
   ]
  },
  {
   "cell_type": "code",
   "execution_count": 2,
   "id": "1a26d4e7-6fb4-48be-a3c0-a7966c9fa6de",
   "metadata": {},
   "outputs": [
    {
     "name": "stdout",
     "output_type": "stream",
     "text": [
      "1\n",
      "3\n",
      "5\n",
      "7\n",
      "9\n",
      "11\n",
      "13\n",
      "15\n",
      "17\n",
      "19\n",
      "21\n",
      "23\n",
      "25\n"
     ]
    }
   ],
   "source": [
    "odd()\n"
   ]
  },
  {
   "cell_type": "code",
   "execution_count": 3,
   "id": "b4d153cb-6363-4b0b-8224-54c7054e2e2f",
   "metadata": {},
   "outputs": [],
   "source": [
    "#2. Why *args and **kwargs is used in some functions? Create a function each for *args and **kwargs to demonstrate their use.\n",
    "'''\n",
    " *args and **kwargs allow you to pass multiple arguments\n",
    " *args takes all the parameters that are provided in the input and packs them all into a single iterable object named args.\n",
    "For Example---'''\n",
    "\n",
    "def add(*args):\n",
    "    sum=0\n",
    "    for x in args:\n",
    "        sum+=x\n",
    "    return sum\n",
    "\n",
    "'''**kwargs works similar to *args, but instead of accepting positional arguments it accepts keyword arguments.'''\n",
    "\n",
    "def fruit(**kwargs):\n",
    "    return kwargs\n",
    " "
   ]
  },
  {
   "cell_type": "code",
   "execution_count": 4,
   "id": "70c069ed-d85f-4bda-969e-8afc8d2c2680",
   "metadata": {},
   "outputs": [
    {
     "name": "stdout",
     "output_type": "stream",
     "text": [
      "55\n"
     ]
    }
   ],
   "source": [
    "print(add(1,2,3,4,5,6,7,8,9,10))"
   ]
  },
  {
   "cell_type": "code",
   "execution_count": 5,
   "id": "f872c59a-5b1d-4ecf-a695-9721ef9b0809",
   "metadata": {},
   "outputs": [
    {
     "name": "stdout",
     "output_type": "stream",
     "text": [
      "{'grapes': 5, 'mango': 7, 'watermelon': 8, 'apple': 9, 'orange': 11}\n"
     ]
    }
   ],
   "source": [
    "print(fruit(grapes=5, mango=7, watermelon=8,apple=9,orange=11))"
   ]
  },
  {
   "cell_type": "code",
   "execution_count": 7,
   "id": "ea36ab2a-0045-4ce1-871e-8defefe816e5",
   "metadata": {},
   "outputs": [
    {
     "name": "stdout",
     "output_type": "stream",
     "text": [
      "2\n",
      "4\n",
      "6\n",
      "8\n",
      "10\n"
     ]
    }
   ],
   "source": [
    "#3. What is an iterator in python? Name the method used to initialise the iterator object and the method used for iteration. Use these methods to \n",
    "# print the first five elements of the given list [2, 4, 6, 8, 10, 12, 14, 16, 18, 20].\n",
    "''' \n",
    "iterator: \n",
    "    an object through which we can go to the next element and return the data is called an iterator.\n",
    "    The iter() method is used to create the iterator over the iterable object.\n",
    "    The next() method returns the next item from the iterator.\n",
    "    Examples of iterables objects are : List, Tuple, Dictionary\n",
    "    \n",
    "The iterator object is initialized using the iter() method.\n",
    "The method used for the iteration is the next() method.'''\n",
    "\n",
    "l=[2, 4, 6, 8, 10, 12, 14,16, 18, 20]\n",
    "l1=iter(l)\n",
    "for i in range(1,6):\n",
    "    print(next(l1))\n",
    "\n"
   ]
  },
  {
   "cell_type": "code",
   "execution_count": 8,
   "id": "fe4380cd-2211-4ab2-9ea4-fc8bfcd3be78",
   "metadata": {},
   "outputs": [],
   "source": [
    "#4. What is a generator function in python? Why yield keyword is used? Give an example of a generator function.\n",
    "''' \n",
    "Generator Function:\n",
    "    A Python generator function allows you to declare a function that behaves like an iterator, providing a faster and easier way to \n",
    "    create iterators.\n",
    "    \n",
    "yield keyword is used to create a generator function.\n",
    "\n",
    "'''    \n",
    "def fibb(n):\n",
    "    a,b=0,1\n",
    "    for i in range(n):\n",
    "        yield a\n",
    "        a,b=b,b+a"
   ]
  },
  {
   "cell_type": "code",
   "execution_count": 9,
   "id": "9798ccfe-6006-4f65-9294-7a44863eb732",
   "metadata": {},
   "outputs": [
    {
     "name": "stdout",
     "output_type": "stream",
     "text": [
      "0\n",
      "1\n",
      "1\n",
      "2\n",
      "3\n",
      "5\n",
      "8\n",
      "13\n",
      "21\n",
      "34\n"
     ]
    }
   ],
   "source": [
    "for i in fibb(10):\n",
    "    print(i)"
   ]
  },
  {
   "cell_type": "code",
   "execution_count": 10,
   "id": "c1729653-18e4-4b73-b385-7866a3a9df5c",
   "metadata": {},
   "outputs": [],
   "source": [
    "#5.Create a generator function for prime numbers less than 1000. Use the next() method to print the first 20 prime numbers.\n",
    "def prime_numbers():\n",
    "    for i in range(2,100):\n",
    "        if i>1:\n",
    "            for j in range(2,i):\n",
    "                if i%j==0:\n",
    "                    break\n",
    "                else:\n",
    "                    yield i\n",
    "                    break"
   ]
  },
  {
   "cell_type": "code",
   "execution_count": 11,
   "id": "210eea22-3271-47b9-902f-d782f387c3f7",
   "metadata": {},
   "outputs": [
    {
     "name": "stdout",
     "output_type": "stream",
     "text": [
      "3\n",
      "5\n",
      "7\n",
      "9\n",
      "11\n",
      "13\n",
      "15\n",
      "17\n",
      "19\n",
      "21\n",
      "23\n",
      "25\n",
      "27\n",
      "29\n",
      "31\n",
      "33\n",
      "35\n",
      "37\n",
      "39\n",
      "41\n"
     ]
    }
   ],
   "source": [
    "prime=prime_numbers()\n",
    "for i in range(20):\n",
    "    print(next(prime))\n"
   ]
  },
  {
   "cell_type": "code",
   "execution_count": 12,
   "id": "8c4f0af9-706e-41d7-aeb6-b40251c9e20c",
   "metadata": {},
   "outputs": [
    {
     "name": "stdout",
     "output_type": "stream",
     "text": [
      "0\n",
      "1\n",
      "1\n",
      "2\n",
      "3\n",
      "5\n",
      "8\n",
      "13\n",
      "21\n",
      "34\n"
     ]
    }
   ],
   "source": [
    "#6. Write a python program to print the first 10 Fibonacci numbers using a while loop.\n",
    "\n",
    "a,b=0,1\n",
    "n=1\n",
    "while(n<=10):\n",
    "    print(a)\n",
    "    a,b=b,a+b\n",
    "    n+= 1"
   ]
  },
  {
   "cell_type": "code",
   "execution_count": 13,
   "id": "b5f7e57d-1934-4092-bb57-308aa40fb230",
   "metadata": {},
   "outputs": [
    {
     "name": "stdout",
     "output_type": "stream",
     "text": [
      "['p', 'w', 's', 'k', 'i', 'l', 'l', 's']\n"
     ]
    }
   ],
   "source": [
    "#7. Write a List Comprehension to iterate through the given string: ‘pwskills’.\n",
    "# Expected output: ['p', 'w', 's', 'k', 'i', 'l', 'l', 's']\n",
    "\n",
    "list=[i for i in \"pwskills\"]\n",
    "print(list)\n"
   ]
  },
  {
   "cell_type": "code",
   "execution_count": 14,
   "id": "d1d7b870-1e36-418b-b79a-cc2dda1c7c61",
   "metadata": {},
   "outputs": [
    {
     "name": "stdin",
     "output_type": "stream",
     "text": [
      "Enter the no =  22\n"
     ]
    },
    {
     "name": "stdout",
     "output_type": "stream",
     "text": [
      "Palindrome\n"
     ]
    }
   ],
   "source": [
    "#8. Write a python program to check whether a given number is Palindrome or not using a while loop.\n",
    "\n",
    "num=input(\"Enter the no = \")\n",
    "if num[::-1]==num:\n",
    "    print(\"Palindrome\")\n",
    "else:\n",
    "    print(\"Not Palindrome\")"
   ]
  },
  {
   "cell_type": "code",
   "execution_count": 16,
   "id": "99d0f563-4103-429c-87d1-19b00e1f691e",
   "metadata": {},
   "outputs": [
    {
     "data": {
      "text/plain": [
       "[1,\n",
       " 3,\n",
       " 5,\n",
       " 7,\n",
       " 9,\n",
       " 11,\n",
       " 13,\n",
       " 15,\n",
       " 17,\n",
       " 19,\n",
       " 21,\n",
       " 23,\n",
       " 25,\n",
       " 27,\n",
       " 29,\n",
       " 31,\n",
       " 33,\n",
       " 35,\n",
       " 37,\n",
       " 39,\n",
       " 41,\n",
       " 43,\n",
       " 45,\n",
       " 47,\n",
       " 49,\n",
       " 51,\n",
       " 53,\n",
       " 55,\n",
       " 57,\n",
       " 59,\n",
       " 61,\n",
       " 63,\n",
       " 65,\n",
       " 67,\n",
       " 69,\n",
       " 71,\n",
       " 73,\n",
       " 75,\n",
       " 77,\n",
       " 79,\n",
       " 81,\n",
       " 83,\n",
       " 85,\n",
       " 87,\n",
       " 89,\n",
       " 91,\n",
       " 93,\n",
       " 95,\n",
       " 97,\n",
       " 99]"
      ]
     },
     "execution_count": 16,
     "metadata": {},
     "output_type": "execute_result"
    }
   ],
   "source": [
    "#9. Write a code to print odd numbers from 1 to 100 using list comprehension.\n",
    "\n",
    "#Q9. Write a code to print odd numbers from 1 to 100 using list comprehension.\n",
    "#ans:-\n",
    "#a code to print odd numbers from 1 to 100 using list comprehension.\n",
    "[odd for odd in range(1,100) if odd%2!=0]"
   ]
  }
 ],
 "metadata": {
  "kernelspec": {
   "display_name": "Python 3 (ipykernel)",
   "language": "python",
   "name": "python3"
  },
  "language_info": {
   "codemirror_mode": {
    "name": "ipython",
    "version": 3
   },
   "file_extension": ".py",
   "mimetype": "text/x-python",
   "name": "python",
   "nbconvert_exporter": "python",
   "pygments_lexer": "ipython3",
   "version": "3.10.8"
  }
 },
 "nbformat": 4,
 "nbformat_minor": 5
}
