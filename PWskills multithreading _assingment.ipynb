{
 "cells": [
  {
   "cell_type": "code",
   "execution_count": null,
   "id": "395e8e45-b86e-400a-ad25-eef423ef9835",
   "metadata": {},
   "outputs": [],
   "source": [
    "'''\n",
    "   Q1. What is multithreading in python? why is it used? \n",
    "   Name the module used to handle threads in python.\n",
    "'''\n"
   ]
  },
  {
   "cell_type": "code",
   "execution_count": null,
   "id": "7f44c9d5-482c-4436-9d3b-8af9cef5f0c2",
   "metadata": {},
   "outputs": [],
   "source": [
    "Multithreading in Python is a technique of creating multiple threads\n",
    "of execution within a single program.\n",
    "Each thread runs independently and can perform a separate task simultaneously. \n",
    "\n",
    "Multithreading is typically used in situations where a program needs to perform \n",
    "multiple tasks simultaneously,\n",
    "such as in network programming or GUI applications. \n",
    "\n",
    "The module used to handle threads in Python is called \"threading\"."
   ]
  },
  {
   "cell_type": "code",
   "execution_count": null,
   "id": "58600d5b-8615-4c81-b7db-e65751930b57",
   "metadata": {},
   "outputs": [],
   "source": [
    "'''\n",
    "    Q2. Why threading module used? write the use of the following functions\n",
    "     1. activeCount\n",
    "     2. currentThread\n",
    "     3. enumerate\n",
    "'''"
   ]
  },
  {
   "cell_type": "code",
   "execution_count": null,
   "id": "499686cf-eb35-471a-91cc-6d308c6b0a4e",
   "metadata": {},
   "outputs": [],
   "source": [
    "The threading module is used in Python to create and manage threads of execution within a program. \n",
    "It provides a high-level interface for working with threads, and includes functions for creating new threads, \n",
    "synchronizing access to shared resources, and managing the lifecycle of threads.\n",
    "\n",
    "(1) activeCount() - This function returns the number of active threads in the current process. \n",
    "(2) currentThread() - This function returns a reference to the current thread object. \n",
    "(3) enumerate() - This function returns a list of all active thread objects in the current process. \n",
    "    Each thread object contains information about the thread, such as its name or ID. "
   ]
  },
  {
   "cell_type": "code",
   "execution_count": null,
   "id": "92ebc1b0-ca88-4a31-9867-72433dafe5b5",
   "metadata": {},
   "outputs": [],
   "source": [
    "'''\n",
    "    Q3. Explain the following functions \n",
    "    1. run\n",
    "    2. start\n",
    "    3. join\n",
    "    4. isAlive\n",
    "'''"
   ]
  },
  {
   "cell_type": "code",
   "execution_count": null,
   "id": "f9e8d3dd-ac52-4db9-9bb1-0109e54f9017",
   "metadata": {},
   "outputs": [],
   "source": []
  }
 ],
 "metadata": {
  "kernelspec": {
   "display_name": "Python 3 (ipykernel)",
   "language": "python",
   "name": "python3"
  },
  "language_info": {
   "codemirror_mode": {
    "name": "ipython",
    "version": 3
   },
   "file_extension": ".py",
   "mimetype": "text/x-python",
   "name": "python",
   "nbconvert_exporter": "python",
   "pygments_lexer": "ipython3",
   "version": "3.10.8"
  }
 },
 "nbformat": 4,
 "nbformat_minor": 5
}
