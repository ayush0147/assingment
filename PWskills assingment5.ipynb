{
 "cells": [
  {
   "cell_type": "code",
   "execution_count": null,
   "id": "875a15bd-a125-4bbc-a2ad-01b8af11b5e1",
   "metadata": {},
   "outputs": [],
   "source": [
    "\"\"\"\n",
    "    Q1. What is Abstraction in OOps? Explain with an example.\n",
    "\n",
    "    Abstraction in Object-Oriented Programming (OOPs) is a concept of showing\n",
    "    only essential information and hiding implementation details of an object from the user.\n",
    "    It is a way to reduce complexity by breaking down a large \n",
    "    system into smaller, more manageable components, and focuses on the essential\n",
    "    features of an object that are relevant to the problem being solved.\n",
    "    \n",
    "\"\"\""
   ]
  },
  {
   "cell_type": "code",
   "execution_count": null,
   "id": "1443cc63-6024-471c-937e-6eca69d5dfd8",
   "metadata": {},
   "outputs": [],
   "source": [
    "#Q2. Differentiate between Abstraction and Encapsulation. Explain with an example.\n",
    "\n",
    "\"\"\"\n",
    "    Abstraction and Encapsulation are two important concepts in object-oriented programming,\n",
    "    and although they are related, they are not the same thing.\n",
    "\n",
    "    Abstraction is the process of hiding implementation details and only exposing essential\n",
    "    features of an object to the user. \n",
    "    Abstraction is achieved using abstract classes, interfaces, and methods. \n",
    "    The user does not need to know how the object works internally, \n",
    "    only how to use it.\n",
    "\n",
    "    Encapsulation, on the other hand, is the process of bundling data and methods \n",
    "    that operate on that data within a single unit, i.e., a class. \n",
    "    Encapsulation allows the data to be protected from unauthorized access from outside \n",
    "    the class. The user can only interact with the object \n",
    "    through its public methods.\n",
    "\"\"\"\n"
   ]
  },
  {
   "cell_type": "code",
   "execution_count": 1,
   "id": "567954f7-cf6e-4f30-8b78-cf1473c57967",
   "metadata": {},
   "outputs": [
    {
     "name": "stdout",
     "output_type": "stream",
     "text": [
      "Circle area: 78.5\n",
      "Circle perimeter: 31.400000000000002\n"
     ]
    }
   ],
   "source": [
    "# Example : Abstraction\n",
    "\n",
    "from abc import ABC, abstractmethod\n",
    "\n",
    "class Shape(ABC):\n",
    "    @abstractmethod\n",
    "    def area(self):\n",
    "        pass\n",
    "\n",
    "    @abstractmethod\n",
    "    def perimeter(self):\n",
    "        pass\n",
    "\n",
    "class Circle(Shape):\n",
    "    def __init__(self, radius):\n",
    "        self.radius = radius\n",
    "\n",
    "    def area(self):\n",
    "        return 3.14 * (self.radius ** 2)\n",
    "\n",
    "    def perimeter(self):\n",
    "        return 2 * 3.14 * self.radius\n",
    "\n",
    "my_circle = Circle(5)\n",
    "print(\"Circle area:\", my_circle.area())\n",
    "print(\"Circle perimeter:\", my_circle.perimeter())"
   ]
  },
  {
   "cell_type": "code",
   "execution_count": 3,
   "id": "c6f0bd8f-73b2-4de2-b5f2-c9310bcfebad",
   "metadata": {},
   "outputs": [],
   "source": [
    "# Example : Encapsulation\n",
    "\n",
    "class BankAccount:\n",
    "    def __init__(self, account_number, balance):\n",
    "        self.__account_number = account_number\n",
    "        self.__balance = balance\n",
    "\n",
    "    def deposit(self, amount):\n",
    "        self.__balance += amount\n",
    "\n",
    "    def withdraw(self, amount):\n",
    "        if self.__balance >= amount:\n",
    "            self.__balance -= amount\n",
    "\n",
    "    def get_balance(self):\n",
    "        return self.__balance"
   ]
  },
  {
   "cell_type": "code",
   "execution_count": 4,
   "id": "497d88b6-b2c0-44c6-9988-045e09973195",
   "metadata": {},
   "outputs": [
    {
     "ename": "AttributeError",
     "evalue": "'BankAccount' object has no attribute '__account_number'",
     "output_type": "error",
     "traceback": [
      "\u001b[0;31m---------------------------------------------------------------------------\u001b[0m",
      "\u001b[0;31mAttributeError\u001b[0m                            Traceback (most recent call last)",
      "Cell \u001b[0;32mIn[4], line 3\u001b[0m\n\u001b[1;32m      1\u001b[0m my_account \u001b[38;5;241m=\u001b[39m BankAccount(\u001b[38;5;124m\"\u001b[39m\u001b[38;5;124m123456789\u001b[39m\u001b[38;5;124m\"\u001b[39m, \u001b[38;5;241m10000\u001b[39m)\n\u001b[1;32m      2\u001b[0m \u001b[38;5;66;03m# try to access the account number directly (will result in an error)\u001b[39;00m\n\u001b[0;32m----> 3\u001b[0m \u001b[38;5;28mprint\u001b[39m(\u001b[38;5;124m\"\u001b[39m\u001b[38;5;124mAccount number:\u001b[39m\u001b[38;5;124m\"\u001b[39m, \u001b[43mmy_account\u001b[49m\u001b[38;5;241;43m.\u001b[39;49m\u001b[43m__account_number\u001b[49m)\n",
      "\u001b[0;31mAttributeError\u001b[0m: 'BankAccount' object has no attribute '__account_number'"
     ]
    }
   ],
   "source": [
    "my_account = BankAccount(\"123456789\", 10000)\n",
    "# try to access the account number directly (will result in an error)\n",
    "print(\"Account number:\", my_account.__account_number)\n"
   ]
  },
  {
   "cell_type": "code",
   "execution_count": 5,
   "id": "3f1d9f84-e5f9-49c7-bb38-f80747a69af3",
   "metadata": {},
   "outputs": [
    {
     "name": "stdout",
     "output_type": "stream",
     "text": [
      "Account balance: 6500\n"
     ]
    }
   ],
   "source": [
    "my_account.withdraw(3500)\n",
    "print(\"Account balance:\", my_account.get_balance())"
   ]
  },
  {
   "cell_type": "code",
   "execution_count": null,
   "id": "62b8e7b1-8bda-4154-ac6f-4d621bf5e7f3",
   "metadata": {},
   "outputs": [],
   "source": [
    "#Q3. What is abc module in python? Why is it used?\n",
    "\n",
    "\"\"\"\n",
    "    In Python, the abc (abstract base classes) module provides the infrastructure for \n",
    "    defining abstract base classes. \n",
    "    An abstract base class is a class that cannot be instantiated and is used to define\n",
    "    a common interface for its subclasses.\n",
    "\n",
    "    The abc module provides the ABC class, which is a base class for defining abstract\n",
    "    base classes. \n",
    "    To define an abstract method, you can use the @abstractmethod decorator. When a subclass\n",
    "    inherits from an abstract base class, \n",
    "    it must implement all of the abstract methods defined in the base class.\n",
    "\n",
    "    It is used when there is no need to point because it has already been established what thing \n",
    "    or person is being talked about.\n",
    "\"\"\"\n"
   ]
  }
 ],
 "metadata": {
  "kernelspec": {
   "display_name": "Python 3 (ipykernel)",
   "language": "python",
   "name": "python3"
  },
  "language_info": {
   "codemirror_mode": {
    "name": "ipython",
    "version": 3
   },
   "file_extension": ".py",
   "mimetype": "text/x-python",
   "name": "python",
   "nbconvert_exporter": "python",
   "pygments_lexer": "ipython3",
   "version": "3.10.8"
  }
 },
 "nbformat": 4,
 "nbformat_minor": 5
}
