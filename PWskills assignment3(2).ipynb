{
 "cells": [
  {
   "cell_type": "code",
   "execution_count": 1,
   "id": "5de29ee0-0765-4fd7-955e-95ad0cacfc55",
   "metadata": {},
   "outputs": [],
   "source": [
    "\"\"\"\n",
    "    Q1. Create a function which will take a list as an argument and return the product of all the numbers after creating a flat list.\n",
    "    Use the below-given list as an argument for your function.\n",
    "    \n",
    "    list1 = [1,2,3,4, [44,55,66, True], False, (34,56,78,89,34), {1,2,3,3,2,1}, {1:34, \"key2\": [55, 67, 78, 89], 4: (45,22, 61, 34)},\n",
    "    [56, 'data science'], 'Machine Learning']\n",
    "    \n",
    "    Note: you must extract numeric keys and values of the dictionary also.\n",
    "\"\"\"\n",
    "\n",
    "\n",
    "def multi_of_numbers(lst):\n",
    "    flat_list = []\n",
    "    for i in lst:\n",
    "        if type(i) == list or type(i) == tuple or type(i) == set:\n",
    "            flat_list.extend([j for j in i if type(j) in [int, float]])\n",
    "        elif type(i) == dict:\n",
    "            for x in i:\n",
    "                if type(x) in [int, float]:\n",
    "                    flat_list.append(x)\n",
    "                if type(i[x]) in [int, float]:\n",
    "                    flat_list.append(i[x])\n",
    "        elif type(i) in [int, float]:\n",
    "            flat_list.append(i)\n",
    "\n",
    "    multi = 1\n",
    "    for num in flat_list:\n",
    "        multi *= num\n",
    "\n",
    "    return multi\n"
   ]
  },
  {
   "cell_type": "code",
   "execution_count": 2,
   "id": "1f18c9fa-2896-41a0-8848-4b994ada533e",
   "metadata": {},
   "outputs": [
    {
     "name": "stdout",
     "output_type": "stream",
     "text": [
      "$dzmg$gl$yvxlnv$z$zgz$xrvmgrhg.\n"
     ]
    }
   ],
   "source": [
    "\"\"\"\n",
    "    Q2. Write a python program for encrypting a message sent to you by your friend. The logic of encryption\n",
    "    should be such that, for a the output should be z. For b, the output should be y. For c, the output should\n",
    "    be x respectively. Also, the whitespace should be replaced with a dollar sign. Keep the punctuation\n",
    "    marks unchanged.\n",
    "    \n",
    "    Input Sentence: I want to become a Data Scientist.\n",
    "\n",
    "    Encrypt the above input sentence using the program you just created.\n",
    "\n",
    "    Note: Convert the given input sentence into lowercase before encrypting. The final output should be\n",
    "    lowercase.\n",
    "\"\"\"\n",
    "\n",
    "def encrypt(message):\n",
    "    result = \"\"\n",
    "    for char in message:\n",
    "        if char.isalpha():\n",
    "            new_char = chr(219 - ord(char))\n",
    "            if char.islower():\n",
    "                result += new_char.lower()\n",
    "            else:\n",
    "                result += new_char.upper()\n",
    "        elif char.isspace():\n",
    "            result += \"$\"\n",
    "        else:\n",
    "            result += char\n",
    "    return result\n",
    "\n",
    "message=\"I want to become a Data Scientist.\"\n",
    "print(encrypt(message))\n",
    "\n"
   ]
  },
  {
   "cell_type": "code",
   "execution_count": null,
   "id": "3bc27835-0dc5-411e-a3e0-d4e17c02e612",
   "metadata": {},
   "outputs": [],
   "source": []
  }
 ],
 "metadata": {
  "kernelspec": {
   "display_name": "Python 3 (ipykernel)",
   "language": "python",
   "name": "python3"
  },
  "language_info": {
   "codemirror_mode": {
    "name": "ipython",
    "version": 3
   },
   "file_extension": ".py",
   "mimetype": "text/x-python",
   "name": "python",
   "nbconvert_exporter": "python",
   "pygments_lexer": "ipython3",
   "version": "3.10.8"
  }
 },
 "nbformat": 4,
 "nbformat_minor": 5
}
