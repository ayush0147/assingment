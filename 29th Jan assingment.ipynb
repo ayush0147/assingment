{
 "cells": [
  {
   "cell_type": "code",
   "execution_count": null,
   "id": "ff1d8eef-a54d-4f1c-964a-b2d9027991ca",
   "metadata": {},
   "outputs": [],
   "source": [
    "1. Who developed Python programming Language?\n",
    "Ans: Python programming language was developed by Guido van Rossum. \n",
    "He started working on Python in December 1989, and the first version of\n",
    "the language was released in February 1991.\n",
    "Python was named after Monty Python, a British comedy group, because Guido \n",
    "van Rossum was a fan of the group. Over the years,\n",
    "Python has become one of the most popular programming languages and \n",
    "is widely used for a variety of purposes, including web development, \n",
    "scientific computing, data analysis, and more."
   ]
  },
  {
   "cell_type": "code",
   "execution_count": null,
   "id": "0fea7716-b427-44bd-9802-d2dc2a6fa3c5",
   "metadata": {},
   "outputs": [],
   "source": [
    "2. Which type of programming does python support? \n",
    "Ans: \n",
    "   Python supports multiple programming paradigms, including:\n",
    "\n",
    "    Object-Oriented Programming (OOP): This allows the creation of objects and\n",
    "    classes that can be used to model real-world entities.\n",
    "    Imperative Programming: This involves using statements to specify a sequence \n",
    "    of actions that the computer should perform.\n",
    "    Functional Programming: This involves treating computation as the evaluation of \n",
    "    mathematical functions, and is supported by Python's built-in functional programming \n",
    "    features like map, filter, and reduce.\n",
    "    Procedural Programming: This involves breaking down a problem into a series of procedures\n",
    "    or functions to solve the problem step by step.\n",
    "    These paradigms can be used in different combinations, making Python a versatile language\n",
    "    that can be used for a wide range of applications. Python's focus on readability and simplicity \n",
    "    also makes it a great language for beginners to learn.\n",
    "\n"
   ]
  },
  {
   "cell_type": "code",
   "execution_count": null,
   "id": "5c433649-2c4a-4662-9611-3b8619885c82",
   "metadata": {},
   "outputs": [],
   "source": [
    "3.s Python case sensitive when dealing with identifiers?\n",
    "Ans: Yes, Python is case sensitive when dealing with identifiers, such as variable names,\n",
    "function names, and class names. This means that the names foo, Foo, and FOO would each refer\n",
    "to a different identifier in the same scope. It's a common practice in Python to use lowercase \n",
    "names with words separated by underscores for variable, function, and class names. For example:\n",
    "first_name = \"John\"\n",
    "print_message = \"Hello, World!\"\n",
    "\n",
    "class Employee:\n",
    "pass\n",
    "\n"
   ]
  },
  {
   "cell_type": "code",
   "execution_count": null,
   "id": "8f6569b1-f69d-48f6-8fdf-d072fe8fb55b",
   "metadata": {},
   "outputs": [],
   "source": [
    "4.What is the correct extenstion of Python file?\n",
    "Ans: The correct extenstion of Python file is .py"
   ]
  },
  {
   "cell_type": "code",
   "execution_count": null,
   "id": "7629f7c6-7d74-4942-b726-e364755ee3f1",
   "metadata": {},
   "outputs": [],
   "source": [
    "5.Is python code compiled or interpreted?\n",
    "Ans:Python is an interpreted language, not a compiled language.\n",
    "The source code is translated into an intermediate form called bytecode,\n",
    "which is executed by the Python interpreter. This allows for faster development and \n",
    "easier debugging, but can lead to slower runtime performance compared to compiled languages."
   ]
  },
  {
   "cell_type": "code",
   "execution_count": null,
   "id": "47fbb1ac-41ab-43f4-a42b-88a06566f1c9",
   "metadata": {},
   "outputs": [],
   "source": [
    "6.Name a few blocks of code used to define in python language?\n",
    "Ans: Indentation is used to define a block of code in python."
   ]
  },
  {
   "cell_type": "code",
   "execution_count": null,
   "id": "d2b6329a-f7e1-471c-b006-558783bebe5b",
   "metadata": {},
   "outputs": [],
   "source": [
    "7.State a character used to give single-line comments in Python?\n",
    "Ans: #"
   ]
  },
  {
   "cell_type": "code",
   "execution_count": null,
   "id": "8f4f3db5-fc29-4214-8683-adf0a2308032",
   "metadata": {},
   "outputs": [],
   "source": [
    "8.Mention functions which can help us to find the version of python that we are currently working on?\n",
    "Ans: sys. version"
   ]
  },
  {
   "cell_type": "code",
   "execution_count": null,
   "id": "55d2f500-7d33-42c5-87f4-546e110f939c",
   "metadata": {},
   "outputs": [],
   "source": [
    "9.Python supports the creation of anonymous functions at runtime, using a construct called --------\n",
    "Ans: lambda"
   ]
  },
  {
   "cell_type": "code",
   "execution_count": null,
   "id": "7b1cd83f-7d8b-4026-9687-c5294db5752d",
   "metadata": {},
   "outputs": [],
   "source": [
    "10.What does pip stand for python?\n",
    "Ans: Pip Installs Packages."
   ]
  },
  {
   "cell_type": "code",
   "execution_count": null,
   "id": "50811396-a956-417d-9a23-136710ef4160",
   "metadata": {},
   "outputs": [],
   "source": [
    "11.Mention a few built-in functions in python?\n",
    "Ans: The few built-in functions in python are:\n",
    "\n",
    "    input()\n",
    "    print()\n",
    "    len()\n",
    "    list()\n",
    "    range()\n",
    "\n"
   ]
  },
  {
   "cell_type": "code",
   "execution_count": null,
   "id": "c7047874-0e92-4454-b625-35219ce072e8",
   "metadata": {},
   "outputs": [],
   "source": [
    "12.What is the maximum possible length of an identifier in python?\n",
    "Ans: 79 characters."
   ]
  },
  {
   "cell_type": "code",
   "execution_count": null,
   "id": "5289238f-6d25-478b-a0d3-72889af4effb",
   "metadata": {},
   "outputs": [],
   "source": [
    "13.What are the benefits of using Python?\n",
    "Ans:\n",
    "Python has many benefits including:\n",
    "\n",
    "    Easy to learn and use: Python has a simple and straightforward syntax which makes \n",
    "    it easy for beginners to pick up.\n",
    "    Versatile: Python can be used for a wide range of applications, including web development,\n",
    "    scientific computing, data analysis, artificial intelligence, and more.\n",
    "    Large community: Python has a large and active community, which means there is a wealth of\n",
    "    resources available, such as libraries and frameworks.\n",
    "    Good for prototyping: Python's short development cycle and ease of use make it a great\n",
    "    language for quickly prototyping ideas.\n",
    "    Interoperability: Python can easily be integrated with other languages and tools, allowing \n",
    "    it to be used as a \"glue\" language for connecting components.\n",
    "    Good for data Science and analysis: Python has a number of powerful libraries, such as NumPy, \n",
    "    Pandas, sklearn, opencv and Matplotlib, that make it a great choice for data Science and analysis.\n"
   ]
  },
  {
   "cell_type": "code",
   "execution_count": null,
   "id": "6d33e0d3-a089-45d5-bfe3-5c9ae6bd87c2",
   "metadata": {},
   "outputs": [],
   "source": [
    "14.How is memory managed in Python?\n",
    "Ans: Python uses automatic memory management, which means the Python memory manager automatically handles memory\n",
    "allocation and deallocation. The memory manager uses a reference counting system to track the number of references \n",
    "to objects in memory, and frees the memory occupied by an object when its reference count reaches zero. \n",
    "Additionally, Python has a garbage collector that periodically frees up memory occupied by objects that are no \n",
    "longer being used.\n",
    "This ensures that Python programs are able to efficiently use memory without the need for manual memory management.\n",
    "\n"
   ]
  },
  {
   "cell_type": "code",
   "execution_count": null,
   "id": "abd3f47d-84f4-4585-b646-022bf499ed76",
   "metadata": {},
   "outputs": [],
   "source": [
    "15.How to install Python on windows and set path variables?\n",
    "Ans:\n",
    "Here's how you can install Python on Windows and set the path variables:\n",
    "\n",
    "   1. Download the latest version of Python from the official website (https://www.python.org/downloads/).\n",
    "   2. Run the installer and follow the instructions to install Python on your system.\n",
    "   3.  Open the \"Environment Variables\" dialog by typing \"Environment Variables\" into the Windows search bar and clicking on \"Edit the system environment variables.\"\n",
    "   4.Under \"System Variables,\" scroll down and find the \"Path\" variable, then click \"Edit.\"\n",
    "   5. Click \"New\" and add the path to your Python installation. For example, if you installed Python in the default location, the path would be \"C:\\PythonXX,\" where \"XX\" is the version number.\n",
    "   6. Click \"OK\" to close all the dialog boxes.\n",
    "    7.Open a new command prompt and type \"python\" to confirm that the installation was successful and that the path variables are set correctly.\n",
    "\n",
    "Note: It may need to restart any open command prompts for the changes to take effect. "
   ]
  }
 ],
 "metadata": {
  "kernelspec": {
   "display_name": "Python 3 (ipykernel)",
   "language": "python",
   "name": "python3"
  },
  "language_info": {
   "codemirror_mode": {
    "name": "ipython",
    "version": 3
   },
   "file_extension": ".py",
   "mimetype": "text/x-python",
   "name": "python",
   "nbconvert_exporter": "python",
   "pygments_lexer": "ipython3",
   "version": "3.10.8"
  }
 },
 "nbformat": 4,
 "nbformat_minor": 5
}
