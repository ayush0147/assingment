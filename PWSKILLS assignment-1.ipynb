{
 "cells": [
  {
   "cell_type": "code",
   "execution_count": null,
   "id": "92fec676-2bba-4e83-a812-26593334633b",
   "metadata": {},
   "outputs": [],
   "source": [
    "Q1. Which keyword is used to create a function? Create a function to return a list of odd numbers in the\n",
    "range of 1 to 25.\n",
    "Ans:- def keyword is used to create a function.\n",
    "start, end = 1, 25\n",
    " \n",
    "\n",
    "for num in range(start, end + 1):\n",
    "     \n",
    "   \n",
    "    if num % 2 != 0:\n",
    "        print(num, end = \" \")"
   ]
  },
  {
   "cell_type": "code",
   "execution_count": null,
   "id": "5c497171-8107-47d8-9d37-d1e25e4e9bf5",
   "metadata": {},
   "outputs": [],
   "source": [
    "Q2. Why *args and **kwargs is used in some functions? Create a function each for *args and **kwargs\n",
    "to demonstrate their use.\n",
    "ans:-*args passes variable number of non-keyworded arguments and on which operation of the tuple can be performed. \n",
    "**kwargs passes variable number of keyword arguments dictionary to function on which operation of a dictionary can be performed. \n",
    "*args and **kwargs make the function flexible.\n",
    "def adder(x,y,z):\n",
    "    print(\"sum:\",x+y+z)\n",
    "\n",
    "adder(10,12,13)\n",
    "\n",
    "def intro(**data):\n",
    "    print(\"\\nData type of argument:\",type(data))\n",
    "\n",
    "    for key, value in data.items():\n",
    "        print(\"{} is {}\".format(key,value))\n",
    "\n",
    "intro(Firstname=\"Sita\", Lastname=\"Sharma\", Age=22, Phone=1234567890)\n",
    "intro(Firstname=\"John\", Lastname=\"Wood\", Email=\"johnwood@nomail.com\", Country=\"Wakanda\",\n"
   ]
  },
  {
   "cell_type": "code",
   "execution_count": null,
   "id": "adbb30f7-ddf3-4a0d-9e7d-e119f7135187",
   "metadata": {},
   "outputs": [],
   "source": [
    "Q3. What is an iterator in python? Name the method used to initialise the iterator object and the method\n",
    "used for iteration. Use these methods to print elements of the given list [2, 4, 6, 8, 10, 12, 14,\n",
    "16, 18, 20].\n",
    "ans:-an iterator is an object that allows you to iterate over collections of data, such as lists, tuples, dictionaries, and sets. \n",
    "Iter()the method used to initialise the iterator object and the method\n",
    "used for iteration.\n",
    "\n",
    "my_list = [2, 4, 6, 8, 10, 12, 14,\n",
    "16, 18, 20]\n",
    "\n",
    "\n",
    "iterator = iter(my_list)\n",
    "\n",
    "\n",
    "for element in iterator:\n",
    "\n",
    "    \n",
    "    print(element)\n"
   ]
  },
  {
   "cell_type": "code",
   "execution_count": null,
   "id": "a9cb57d7-76d0-4e8b-a583-4c80e0090ecb",
   "metadata": {},
   "outputs": [],
   "source": [
    "Q4. What is a generator function in python? Why yield keyword is used? Give an example of a generator\n",
    "function.\n",
    "ans:-a generator is a function that returns an iterator that produces a sequence of values when iterated over. \n",
    "yield keyword is used to create a generator function.\n",
    "def generator_name(arg):\n",
    "    # statements\n",
    "    yield something"
   ]
  },
  {
   "cell_type": "code",
   "execution_count": null,
   "id": "d5b92506-a10a-4a85-8525-d7111f2df936",
   "metadata": {},
   "outputs": [],
   "source": [
    "Q5. Create a generator function for prime numbers less than 1000. Use the next() method to print the\n",
    "first 20 prime numbers.\n",
    "ans:-\n",
    "#a generator function for prime numbers less than 1000. Use the next() method to print the first 20 prime numbers.\n",
    "def primes():\n",
    "    \"\"\"Create a generator function for prime numbers less than 1000.\"\"\"\n",
    "    yield 2\n",
    "    primes_list = [2]\n",
    "    for i in range(3, 1000):\n",
    "        is_prime = True\n",
    "        for prime in primes_list:\n",
    "            if i % prime == 0:\n",
    "                is_prime = False\n",
    "                break\n",
    "        if is_prime:\n",
    "            primes_list.append(i)\n",
    "            yield i\n",
    "\n",
    "prime_gen = primes()\n",
    "# the next() method to print the first 20 prime numbers.\n",
    "for i in range(20):\n",
    "    print(next(prime_gen))\n"
   ]
  },
  {
   "cell_type": "code",
   "execution_count": null,
   "id": "e2e37889-6e65-443f-a2ab-92546d8ec1ef",
   "metadata": {},
   "outputs": [],
   "source": [
    "Q6. Write a python program to print the first 10 Fibonacci numbers using a while loop.\n",
    "ans:-\n",
    "#a python program to print the first 10 Fibonacci numbers using a while loop.\n",
    "def fibonacci(n):\n",
    "    \"\"\"This function will print fibonacci sequence\"\"\"\n",
    "    a, b = 0, 1\n",
    "    count = 0\n",
    "    while count < n:\n",
    "        print(a)\n",
    "        a, b = b, a + b\n",
    "        count += 1\n",
    "\n",
    "fibonacci(10)\n"
   ]
  },
  {
   "cell_type": "code",
   "execution_count": null,
   "id": "9da5601b-a2aa-4d01-be4c-2377e0a0578b",
   "metadata": {},
   "outputs": [],
   "source": [
    "Q7. Write a List Comprehension to iterate through the given string: ‘pwskills’.\n",
    "Expected output: ['p', 'w', 's', 'k', 'i', 'l', 'l', 's']\n",
    "ans:-\n",
    "#a List Comprehension to iterate through the given string: ‘pwskills’.\n",
    "string = 'pwskills'\n",
    "output = [char for char in string]\n",
    "print(output)\n"
   ]
  },
  {
   "cell_type": "code",
   "execution_count": null,
   "id": "df596344-79ce-4fdf-9ce4-0cd26d1d6417",
   "metadata": {},
   "outputs": [],
   "source": [
    "Q8. Write a python program to check whether a given number is Palindrome or not using a while loop.\n",
    "ans:-\n",
    "#a python program to check whether a given number is Palindrome or not using a while loop.\n",
    "n = int(input(\"Please give a number : \"))\n",
    "def reverse(num):\n",
    "    if num<10:\n",
    "      return num \n",
    "    else:\n",
    "      return int(str(num%10) + str(reverse(num//10)))\n",
    "def isPalindrome(num):\n",
    "    if num == reverse(num):\n",
    "        return 1\n",
    "    return 0\n",
    "if isPalindrome(n) == 1:\n",
    "    print(\"Given number is a palindrome\")\n",
    "else:\n",
    "    print(\"Given number is a not palindrome\") \n"
   ]
  },
  {
   "cell_type": "code",
   "execution_count": null,
   "id": "d25bdc80-4114-4188-bf6d-8e4beb07e7ed",
   "metadata": {},
   "outputs": [],
   "source": [
    "Q9. Write a code to print odd numbers from 1 to 100 using list comprehension.\n",
    "ans:-\n",
    "#a code to print odd numbers from 1 to 100 using list comprehension.\n",
    "[odd for odd in range(1,100) if odd%2!=0]\n"
   ]
  }
 ],
 "metadata": {
  "kernelspec": {
   "display_name": "Python 3 (ipykernel)",
   "language": "python",
   "name": "python3"
  },
  "language_info": {
   "codemirror_mode": {
    "name": "ipython",
    "version": 3
   },
   "file_extension": ".py",
   "mimetype": "text/x-python",
   "name": "python",
   "nbconvert_exporter": "python",
   "pygments_lexer": "ipython3",
   "version": "3.10.8"
  }
 },
 "nbformat": 4,
 "nbformat_minor": 5
}
