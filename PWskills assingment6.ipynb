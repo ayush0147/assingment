{
 "cells": [
  {
   "cell_type": "code",
   "execution_count": null,
   "id": "95538c4a-4bad-44ac-9616-78a0a1959e19",
   "metadata": {},
   "outputs": [],
   "source": [
    "'''\n",
    "    Q1. Explain why we have to use the Exception class while creating a Custom Exception.\n",
    "'''\n"
   ]
  },
  {
   "cell_type": "code",
   "execution_count": null,
   "id": "3cb79d14-a4e3-46e9-9204-4304f4b337f3",
   "metadata": {},
   "outputs": [],
   "source": [
    "Inheriting from the Exception class is recommended when creating custom exceptions in Python because it provides \n",
    "consistency, catchability, customizability, and polymorphism for your exception. This makes it easier to work \n",
    "with and integrate into your code.\n"
   ]
  },
  {
   "cell_type": "code",
   "execution_count": null,
   "id": "223ea2e6-726f-4d37-bfdf-1a9f7725510f",
   "metadata": {},
   "outputs": [],
   "source": [
    "'''\n",
    "    Q2. Write a python program to print Python Exception Hierarchy.\n",
    "'''"
   ]
  },
  {
   "cell_type": "code",
   "execution_count": 1,
   "id": "0030a30b-ba84-4e57-8bc5-f11f4753a289",
   "metadata": {},
   "outputs": [
    {
     "name": "stdout",
     "output_type": "stream",
     "text": [
      "ArithmeticError\n",
      "AssertionError\n",
      "AttributeError\n",
      "BlockingIOError\n",
      "BrokenPipeError\n",
      "BufferError\n",
      "ChildProcessError\n",
      "ConnectionAbortedError\n",
      "ConnectionError\n",
      "ConnectionRefusedError\n",
      "ConnectionResetError\n",
      "EOFError\n",
      "EnvironmentError\n",
      "FileExistsError\n",
      "FileNotFoundError\n",
      "FloatingPointError\n",
      "IOError\n",
      "ImportError\n",
      "IndentationError\n",
      "IndexError\n",
      "InterruptedError\n",
      "IsADirectoryError\n",
      "KeyError\n",
      "LookupError\n",
      "MemoryError\n",
      "ModuleNotFoundError\n",
      "NameError\n",
      "NotADirectoryError\n",
      "NotImplementedError\n",
      "OSError\n",
      "OverflowError\n",
      "PermissionError\n",
      "ProcessLookupError\n",
      "RecursionError\n",
      "ReferenceError\n",
      "RuntimeError\n",
      "SyntaxError\n",
      "SystemError\n",
      "TabError\n",
      "TimeoutError\n",
      "TypeError\n",
      "UnboundLocalError\n",
      "UnicodeDecodeError\n",
      "UnicodeEncodeError\n",
      "UnicodeError\n",
      "UnicodeTranslateError\n",
      "ValueError\n",
      "ZeroDivisionError\n"
     ]
    }
   ],
   "source": [
    "# Program to print the exception hierarchy\n",
    "\n",
    "for exc in dir(__builtins__):\n",
    "    if \"Error\" in exc:\n",
    "        print(exc)"
   ]
  },
  {
   "cell_type": "code",
   "execution_count": null,
   "id": "bc586a2f-1b4b-4abd-be97-23a390a3400c",
   "metadata": {},
   "outputs": [],
   "source": [
    "'''\n",
    "    Q3. What errors are defined in the ArithmeticError class? Explain any two with an example.\n",
    "'''"
   ]
  },
  {
   "cell_type": "code",
   "execution_count": null,
   "id": "7686b16b-1226-4109-a80f-25c74c499475",
   "metadata": {},
   "outputs": [],
   "source": [
    "The ArithmeticError class is a built-in Python exception that is raised for errors that occur during arithmetic operations, \n",
    "such as division by zero or overflow. It is a subclass of the Exception class, which is the base class for all built-in\n",
    "exceptions in Python.\n",
    "\n",
    "(1) ZeroDivisionError: This exception is raised when you try to divide a number by zero. \n",
    "(2) ValueError: It is raised when a function or method receives an argument of the correct type but with an inappropriate value. \n"
   ]
  },
  {
   "cell_type": "code",
   "execution_count": 2,
   "id": "058e561a-505e-4955-ac59-ae8557eeba12",
   "metadata": {},
   "outputs": [
    {
     "name": "stdout",
     "output_type": "stream",
     "text": [
      "Error: division by zero\n"
     ]
    }
   ],
   "source": [
    "# Zerodivisionerror\n",
    "try:\n",
    "    x = 1 / 0\n",
    "except ZeroDivisionError as e:\n",
    "    print(\"Error:\", e)"
   ]
  },
  {
   "cell_type": "code",
   "execution_count": 3,
   "id": "145574ec-daa3-4216-8a00-d95fa8b09420",
   "metadata": {},
   "outputs": [
    {
     "name": "stdout",
     "output_type": "stream",
     "text": [
      "math domain error\n"
     ]
    }
   ],
   "source": [
    "try:\n",
    "    import math\n",
    "    math.sqrt(-1)\n",
    "except ValueError as e:\n",
    "    print(e)\n"
   ]
  },
  {
   "cell_type": "code",
   "execution_count": null,
   "id": "bcd6df8e-5618-4c44-8751-cc24a5bfd764",
   "metadata": {},
   "outputs": [],
   "source": [
    "'''\n",
    "    Q4. Why LookupError class is used? Explain with an example KeyError and IndexError.\n",
    "'''\n"
   ]
  },
  {
   "cell_type": "code",
   "execution_count": null,
   "id": "cf58a7ae-9cc0-4af0-ac15-6c434ab7d820",
   "metadata": {},
   "outputs": [],
   "source": [
    "LookupError: The LookupError class is a built-in exception in Python that serves as the base class for all exceptions that occur\n",
    "             when a key or index is not found in a container, such as a dictionary or a list. \n",
    "    \n",
    "KeyError and IndexError are both subclasses of LookupError\n",
    "        \n",
    "KeyError: KeyError is raised when a dictionary key is not found in the dictionary. \n",
    "IndexError: IndexError is raised when trying to access an index in a sequence that is out of bounds.\n",
    "\n"
   ]
  },
  {
   "cell_type": "code",
   "execution_count": 4,
   "id": "f6bd3b79-a41d-4aa8-a683-cadd6d7d8eaa",
   "metadata": {},
   "outputs": [
    {
     "name": "stdout",
     "output_type": "stream",
     "text": [
      "Key not found in dictionary\n"
     ]
    }
   ],
   "source": [
    "#KeyError\n",
    "d = {'a': 1, 'b': 2, 'c': 3}\n",
    "\n",
    "try:\n",
    "    value = d['d']\n",
    "except KeyError:\n",
    "    print(\"Key not found in dictionary\")"
   ]
  },
  {
   "cell_type": "code",
   "execution_count": 5,
   "id": "bfadf3ec-ee85-4f83-a6b5-a259c4e2f125",
   "metadata": {},
   "outputs": [
    {
     "name": "stdout",
     "output_type": "stream",
     "text": [
      "Index out of bounds\n"
     ]
    }
   ],
   "source": [
    "#IndexError\n",
    "my_list = [1, 2, 3]\n",
    "\n",
    "try:\n",
    "    value = my_list[3]\n",
    "except IndexError:\n",
    "    print(\"Index out of bounds\")"
   ]
  },
  {
   "cell_type": "code",
   "execution_count": null,
   "id": "1d0d77e4-0876-4e68-ae8b-097c2a133b95",
   "metadata": {},
   "outputs": [],
   "source": [
    "'''\n",
    "    Q5. Explain ImportError. What is ModuleNotFoundError?\n",
    "'''\n"
   ]
  },
  {
   "cell_type": "code",
   "execution_count": null,
   "id": "b4758cbd-0045-4396-82d3-e69abf8b2659",
   "metadata": {},
   "outputs": [],
   "source": [
    "ImportError: ImportError is a built-in exception in Python that is raised when a module or package cannot be imported.\n",
    "            This can happen for a number of reasons, such as the module not being installed, the module being in a different \n",
    "            directory than the one the code is running in, or the module having syntax errors.\n",
    "        \n",
    "ModuleNotFoundError: ModuleNotFoundError is a subclass of ImportError that was introduced in Python 3.6. \n",
    "                    It is raised when a module is not found during the import process, and is more specific than \n",
    "                    the general ImportError\n"
   ]
  }
 ],
 "metadata": {
  "kernelspec": {
   "display_name": "Python 3 (ipykernel)",
   "language": "python",
   "name": "python3"
  },
  "language_info": {
   "codemirror_mode": {
    "name": "ipython",
    "version": 3
   },
   "file_extension": ".py",
   "mimetype": "text/x-python",
   "name": "python",
   "nbconvert_exporter": "python",
   "pygments_lexer": "ipython3",
   "version": "3.10.8"
  }
 },
 "nbformat": 4,
 "nbformat_minor": 5
}
